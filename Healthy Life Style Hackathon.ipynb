{
 "cells": [
  {
   "cell_type": "code",
   "execution_count": 1,
   "id": "008dad21",
   "metadata": {},
   "outputs": [
    {
     "name": "stdout",
     "output_type": "stream",
     "text": [
      "     ID1  Specific ailments    ID2 Food preference  Age        BMI Smoker?  \\\n",
      "0   2408                 44   2668             DX6   49  20.500470      NO   \n",
      "1  25063                 39  10363        DX3 DX4    20  26.076580      NO   \n",
      "2  26798                 29    132             DX6    1  21.420866      NO   \n",
      "3  31907                 27  10499            DX1    30  25.203247      NO   \n",
      "4  26412                  9   7963             DX6   40  19.355846     YES   \n",
      "\n",
      "  Living in? Any heriditary condition?  Follow Diet  Physical activity  \\\n",
      "0      RURAL                    Stable          1.0                0.0   \n",
      "1      URBAN                    Stable          0.0                0.0   \n",
      "2      URBAN                    Stable          1.0                0.0   \n",
      "3      RURAL                    Stable          1.0                0.0   \n",
      "4      RURAL                    Stable          1.0                0.0   \n",
      "\n",
      "   Regular sleeping hours  Alcohol consumption  Social interaction  \\\n",
      "0                     0.0                  0.0                 0.0   \n",
      "1                     0.0                  0.0                 1.0   \n",
      "2                     0.0                  0.0                 0.0   \n",
      "3                     0.0                  0.0                 0.0   \n",
      "4                     0.0                  0.0                 1.0   \n",
      "\n",
      "   Taking supplements  Mental health management  Illness count last year  \\\n",
      "0                 0.0                       0.0                      1.0   \n",
      "1                 0.0                       0.0                      1.0   \n",
      "2                 0.0                       0.0                      1.0   \n",
      "3                 0.0                       0.0                      1.0   \n",
      "4                 0.0                       0.0                      2.0   \n",
      "\n",
      "   Healthy  \n",
      "0        1  \n",
      "1        1  \n",
      "2        0  \n",
      "3        1  \n",
      "4        1  \n",
      "\n",
      "\n",
      "Check Class imbalance\n",
      "1    16300\n",
      "0     9620\n",
      "Name: Healthy, dtype: int64\n"
     ]
    }
   ],
   "source": [
    "import pandas as pd\n",
    "import numpy as np\n",
    "import matplotlib.pyplot as plt\n",
    "from sklearn.preprocessing import LabelEncoder\n",
    "from sklearn.impute import KNNImputer\n",
    "from sklearn.preprocessing import MinMaxScaler,StandardScaler\n",
    "from sklearn.feature_selection import SelectKBest\n",
    "from sklearn.feature_selection import f_classif\n",
    "from sklearn.model_selection import train_test_split\n",
    "from sklearn.metrics import f1_score\n",
    "from sklearn.metrics import classification_report\n",
    "from sklearn.ensemble import RandomForestClassifier\n",
    "from sklearn.linear_model import LogisticRegression\n",
    "from sklearn.svm import SVC\n",
    "from sklearn.tree import DecisionTreeClassifier\n",
    "from sklearn.neighbors import KNeighborsClassifier\n",
    "from sklearn.naive_bayes import GaussianNB\n",
    "from sklearn.neural_network import MLPClassifier\n",
    "from sklearn.discriminant_analysis import LinearDiscriminantAnalysis\n",
    "from sklearn.ensemble import AdaBoostClassifier\n",
    "from sklearn.ensemble import GradientBoostingClassifier\n",
    "from sklearn.ensemble import AdaBoostClassifier\n",
    "from sklearn.ensemble import BaggingClassifier\n",
    "from sklearn.ensemble import ExtraTreesClassifier\n",
    "from xgboost import XGBClassifier\n",
    "from sklearn.metrics import accuracy_score\n",
    "\n",
    "\n",
    "# Load the dataset\n",
    "df = pd.read_csv(r\"C:\\Users\\Dinesh Jangir\\Downloads\\Train_Data (1).csv\")\n",
    "\n",
    "# Take a look at the data\n",
    "print(df.head())\n",
    "\n",
    "\n",
    "print(\"\\n\\nCheck Class imbalance\")\n",
    "class_distribution = df['Healthy'].value_counts()\n",
    "print(class_distribution)"
   ]
  },
  {
   "cell_type": "code",
   "execution_count": 2,
   "id": "f9008fa6",
   "metadata": {},
   "outputs": [],
   "source": [
    "df.drop(['ID1','ID2','Any heriditary condition?'],axis=1,inplace=True)"
   ]
  },
  {
   "cell_type": "code",
   "execution_count": 3,
   "id": "ad14cf6f",
   "metadata": {},
   "outputs": [],
   "source": [
    "# Label encode categorical columns from string to int\n",
    "categorical_cols = ['Smoker?','Living in?','Specific ailments','Food preference']\n",
    "label_encoder = LabelEncoder()\n",
    "for col in categorical_cols:\n",
    "    df[col] = label_encoder.fit_transform(df[col])"
   ]
  },
  {
   "cell_type": "code",
   "execution_count": 4,
   "id": "91522b67",
   "metadata": {},
   "outputs": [
    {
     "data": {
      "text/html": [
       "<div>\n",
       "<style scoped>\n",
       "    .dataframe tbody tr th:only-of-type {\n",
       "        vertical-align: middle;\n",
       "    }\n",
       "\n",
       "    .dataframe tbody tr th {\n",
       "        vertical-align: top;\n",
       "    }\n",
       "\n",
       "    .dataframe thead th {\n",
       "        text-align: right;\n",
       "    }\n",
       "</style>\n",
       "<table border=\"1\" class=\"dataframe\">\n",
       "  <thead>\n",
       "    <tr style=\"text-align: right;\">\n",
       "      <th></th>\n",
       "      <th>Specific ailments</th>\n",
       "      <th>Food preference</th>\n",
       "      <th>Age</th>\n",
       "      <th>BMI</th>\n",
       "      <th>Smoker?</th>\n",
       "      <th>Living in?</th>\n",
       "      <th>Follow Diet</th>\n",
       "      <th>Physical activity</th>\n",
       "      <th>Regular sleeping hours</th>\n",
       "      <th>Alcohol consumption</th>\n",
       "      <th>Social interaction</th>\n",
       "      <th>Taking supplements</th>\n",
       "      <th>Mental health management</th>\n",
       "      <th>Illness count last year</th>\n",
       "      <th>Healthy</th>\n",
       "    </tr>\n",
       "  </thead>\n",
       "  <tbody>\n",
       "    <tr>\n",
       "      <th>0</th>\n",
       "      <td>44</td>\n",
       "      <td>31</td>\n",
       "      <td>49</td>\n",
       "      <td>20.500470</td>\n",
       "      <td>1</td>\n",
       "      <td>0</td>\n",
       "      <td>1.0</td>\n",
       "      <td>0.0</td>\n",
       "      <td>0.0</td>\n",
       "      <td>0.0</td>\n",
       "      <td>0.0</td>\n",
       "      <td>0.0</td>\n",
       "      <td>0.0</td>\n",
       "      <td>1.0</td>\n",
       "      <td>1</td>\n",
       "    </tr>\n",
       "    <tr>\n",
       "      <th>1</th>\n",
       "      <td>39</td>\n",
       "      <td>25</td>\n",
       "      <td>20</td>\n",
       "      <td>26.076580</td>\n",
       "      <td>1</td>\n",
       "      <td>1</td>\n",
       "      <td>0.0</td>\n",
       "      <td>0.0</td>\n",
       "      <td>0.0</td>\n",
       "      <td>0.0</td>\n",
       "      <td>1.0</td>\n",
       "      <td>0.0</td>\n",
       "      <td>0.0</td>\n",
       "      <td>1.0</td>\n",
       "      <td>1</td>\n",
       "    </tr>\n",
       "    <tr>\n",
       "      <th>2</th>\n",
       "      <td>29</td>\n",
       "      <td>31</td>\n",
       "      <td>1</td>\n",
       "      <td>21.420866</td>\n",
       "      <td>1</td>\n",
       "      <td>1</td>\n",
       "      <td>1.0</td>\n",
       "      <td>0.0</td>\n",
       "      <td>0.0</td>\n",
       "      <td>0.0</td>\n",
       "      <td>0.0</td>\n",
       "      <td>0.0</td>\n",
       "      <td>0.0</td>\n",
       "      <td>1.0</td>\n",
       "      <td>0</td>\n",
       "    </tr>\n",
       "    <tr>\n",
       "      <th>3</th>\n",
       "      <td>27</td>\n",
       "      <td>0</td>\n",
       "      <td>30</td>\n",
       "      <td>25.203247</td>\n",
       "      <td>1</td>\n",
       "      <td>0</td>\n",
       "      <td>1.0</td>\n",
       "      <td>0.0</td>\n",
       "      <td>0.0</td>\n",
       "      <td>0.0</td>\n",
       "      <td>0.0</td>\n",
       "      <td>0.0</td>\n",
       "      <td>0.0</td>\n",
       "      <td>1.0</td>\n",
       "      <td>1</td>\n",
       "    </tr>\n",
       "    <tr>\n",
       "      <th>4</th>\n",
       "      <td>9</td>\n",
       "      <td>31</td>\n",
       "      <td>40</td>\n",
       "      <td>19.355846</td>\n",
       "      <td>2</td>\n",
       "      <td>0</td>\n",
       "      <td>1.0</td>\n",
       "      <td>0.0</td>\n",
       "      <td>0.0</td>\n",
       "      <td>0.0</td>\n",
       "      <td>1.0</td>\n",
       "      <td>0.0</td>\n",
       "      <td>0.0</td>\n",
       "      <td>2.0</td>\n",
       "      <td>1</td>\n",
       "    </tr>\n",
       "  </tbody>\n",
       "</table>\n",
       "</div>"
      ],
      "text/plain": [
       "   Specific ailments  Food preference  Age        BMI  Smoker?  Living in?  \\\n",
       "0                 44               31   49  20.500470        1           0   \n",
       "1                 39               25   20  26.076580        1           1   \n",
       "2                 29               31    1  21.420866        1           1   \n",
       "3                 27                0   30  25.203247        1           0   \n",
       "4                  9               31   40  19.355846        2           0   \n",
       "\n",
       "   Follow Diet  Physical activity  Regular sleeping hours  \\\n",
       "0          1.0                0.0                     0.0   \n",
       "1          0.0                0.0                     0.0   \n",
       "2          1.0                0.0                     0.0   \n",
       "3          1.0                0.0                     0.0   \n",
       "4          1.0                0.0                     0.0   \n",
       "\n",
       "   Alcohol consumption  Social interaction  Taking supplements  \\\n",
       "0                  0.0                 0.0                 0.0   \n",
       "1                  0.0                 1.0                 0.0   \n",
       "2                  0.0                 0.0                 0.0   \n",
       "3                  0.0                 0.0                 0.0   \n",
       "4                  0.0                 1.0                 0.0   \n",
       "\n",
       "   Mental health management  Illness count last year  Healthy  \n",
       "0                       0.0                      1.0        1  \n",
       "1                       0.0                      1.0        1  \n",
       "2                       0.0                      1.0        0  \n",
       "3                       0.0                      1.0        1  \n",
       "4                       0.0                      2.0        1  "
      ]
     },
     "execution_count": 4,
     "metadata": {},
     "output_type": "execute_result"
    }
   ],
   "source": [
    "df.head()"
   ]
  },
  {
   "cell_type": "code",
   "execution_count": 5,
   "id": "38f50ed0",
   "metadata": {},
   "outputs": [
    {
     "data": {
      "text/plain": [
       "(24947, 15)"
      ]
     },
     "execution_count": 5,
     "metadata": {},
     "output_type": "execute_result"
    }
   ],
   "source": [
    "df = df.dropna()\n",
    "df.shape"
   ]
  },
  {
   "cell_type": "code",
   "execution_count": 6,
   "id": "d17e51ca",
   "metadata": {},
   "outputs": [
    {
     "name": "stdout",
     "output_type": "stream",
     "text": [
      "1    15554\n",
      "0     9393\n",
      "Name: Healthy, dtype: int64\n"
     ]
    }
   ],
   "source": [
    "class_distribution = df['Healthy'].value_counts()\n",
    "print(class_distribution)\n",
    "\n",
    "\n",
    "X = df.drop('Healthy', axis=1)\n",
    "y = df['Healthy']\n",
    "\n",
    "X_train, X_test, y_train, y_test = train_test_split(X, y, test_size=0.2, random_state=42)"
   ]
  },
  {
   "cell_type": "code",
   "execution_count": 7,
   "id": "00c0bd2e",
   "metadata": {},
   "outputs": [],
   "source": [
    "test_data = pd.read_csv(r\"C:\\Users\\Dinesh Jangir\\Downloads\\Train_Data (1).csv\")\n",
    "test_data = test_data[X_train.columns]"
   ]
  },
  {
   "cell_type": "code",
   "execution_count": 8,
   "id": "3bde1a97",
   "metadata": {},
   "outputs": [],
   "source": [
    "# Label encode categorical columns from string to int\n",
    "categorical_cols = ['Smoker?','Living in?','Specific ailments','Food preference']\n",
    "label_encoder = LabelEncoder()\n",
    "for col in categorical_cols:\n",
    "    test_data[col] = label_encoder.fit_transform(test_data[col])"
   ]
  },
  {
   "cell_type": "code",
   "execution_count": 9,
   "id": "d875c37a",
   "metadata": {},
   "outputs": [],
   "source": [
    "test_data = test_data.fillna(test_data.median())"
   ]
  },
  {
   "cell_type": "markdown",
   "id": "378294a7",
   "metadata": {},
   "source": [
    "# LogisticRegression"
   ]
  },
  {
   "cell_type": "code",
   "execution_count": 10,
   "id": "8bf82cef",
   "metadata": {},
   "outputs": [
    {
     "name": "stdout",
     "output_type": "stream",
     "text": [
      "              precision    recall  f1-score   support\n",
      "\n",
      "           0       0.46      0.62      0.53      1340\n",
      "           1       0.84      0.73      0.78      3650\n",
      "\n",
      "    accuracy                           0.70      4990\n",
      "   macro avg       0.65      0.67      0.65      4990\n",
      "weighted avg       0.74      0.70      0.71      4990\n",
      "\n"
     ]
    },
    {
     "name": "stderr",
     "output_type": "stream",
     "text": [
      "C:\\Users\\Dinesh Jangir\\anaconda3\\lib\\site-packages\\sklearn\\linear_model\\_logistic.py:458: ConvergenceWarning: lbfgs failed to converge (status=1):\n",
      "STOP: TOTAL NO. of ITERATIONS REACHED LIMIT.\n",
      "\n",
      "Increase the number of iterations (max_iter) or scale the data as shown in:\n",
      "    https://scikit-learn.org/stable/modules/preprocessing.html\n",
      "Please also refer to the documentation for alternative solver options:\n",
      "    https://scikit-learn.org/stable/modules/linear_model.html#logistic-regression\n",
      "  n_iter_i = _check_optimize_result(\n"
     ]
    }
   ],
   "source": [
    "model = LogisticRegression()\n",
    "model.fit(X_train,y_train)\n",
    "y_pred = model.predict(X_test)\n",
    "print(classification_report(y_pred,y_test))"
   ]
  },
  {
   "cell_type": "markdown",
   "id": "926bd932",
   "metadata": {},
   "source": [
    "# Support Vector Machine"
   ]
  },
  {
   "cell_type": "code",
   "execution_count": 11,
   "id": "a88eb00c",
   "metadata": {},
   "outputs": [
    {
     "name": "stdout",
     "output_type": "stream",
     "text": [
      "              precision    recall  f1-score   support\n",
      "\n",
      "           0       0.48      0.72      0.57      1212\n",
      "           1       0.89      0.75      0.81      3778\n",
      "\n",
      "    accuracy                           0.74      4990\n",
      "   macro avg       0.69      0.73      0.69      4990\n",
      "weighted avg       0.79      0.74      0.76      4990\n",
      "\n"
     ]
    }
   ],
   "source": [
    "model = SVC()\n",
    "model.fit(X_train,y_train)\n",
    "y_pred = model.predict(X_test)\n",
    "print(classification_report(y_pred,y_test))"
   ]
  },
  {
   "cell_type": "markdown",
   "id": "9941405f",
   "metadata": {},
   "source": [
    "# GaussianNB"
   ]
  },
  {
   "cell_type": "code",
   "execution_count": 12,
   "id": "2f3d8164",
   "metadata": {},
   "outputs": [
    {
     "name": "stdout",
     "output_type": "stream",
     "text": [
      "              precision    recall  f1-score   support\n",
      "\n",
      "           0       0.99      0.37      0.54      4901\n",
      "           1       0.02      0.83      0.05        89\n",
      "\n",
      "    accuracy                           0.38      4990\n",
      "   macro avg       0.51      0.60      0.29      4990\n",
      "weighted avg       0.97      0.38      0.53      4990\n",
      "\n"
     ]
    }
   ],
   "source": [
    "model = GaussianNB()\n",
    "model.fit(X_train,y_train)\n",
    "y_pred = model.predict(X_test)\n",
    "print(classification_report(y_pred,y_test))"
   ]
  },
  {
   "cell_type": "markdown",
   "id": "7083630c",
   "metadata": {},
   "source": [
    "# DecisionTreeClassifier"
   ]
  },
  {
   "cell_type": "code",
   "execution_count": 13,
   "id": "e3979fe8",
   "metadata": {},
   "outputs": [
    {
     "name": "stdout",
     "output_type": "stream",
     "text": [
      "              precision    recall  f1-score   support\n",
      "\n",
      "           0       0.69      0.69      0.69      1820\n",
      "           1       0.82      0.82      0.82      3170\n",
      "\n",
      "    accuracy                           0.77      4990\n",
      "   macro avg       0.76      0.76      0.76      4990\n",
      "weighted avg       0.77      0.77      0.77      4990\n",
      "\n"
     ]
    }
   ],
   "source": [
    "model = DecisionTreeClassifier()\n",
    "model.fit(X_train,y_train)\n",
    "y_pred = model.predict(X_test)\n",
    "print(classification_report(y_pred,y_test))"
   ]
  },
  {
   "cell_type": "markdown",
   "id": "fe968c99",
   "metadata": {},
   "source": [
    "# RandomForestClassifier"
   ]
  },
  {
   "cell_type": "code",
   "execution_count": 14,
   "id": "4b1d7a70",
   "metadata": {},
   "outputs": [
    {
     "name": "stdout",
     "output_type": "stream",
     "text": [
      "              precision    recall  f1-score   support\n",
      "\n",
      "           0       0.73      0.76      0.75      1761\n",
      "           1       0.87      0.85      0.86      3229\n",
      "\n",
      "    accuracy                           0.82      4990\n",
      "   macro avg       0.80      0.80      0.80      4990\n",
      "weighted avg       0.82      0.82      0.82      4990\n",
      "\n"
     ]
    }
   ],
   "source": [
    "model = RandomForestClassifier()\n",
    "model.fit(X_train,y_train)\n",
    "y_pred = model.predict(X_test)\n",
    "print(classification_report(y_pred,y_test))"
   ]
  },
  {
   "cell_type": "markdown",
   "id": "5ce81fb5",
   "metadata": {},
   "source": [
    "# ExtraTreesClassifier"
   ]
  },
  {
   "cell_type": "code",
   "execution_count": 15,
   "id": "159beb2d",
   "metadata": {},
   "outputs": [
    {
     "name": "stdout",
     "output_type": "stream",
     "text": [
      "              precision    recall  f1-score   support\n",
      "\n",
      "           0       0.66      0.73      0.69      1651\n",
      "           1       0.86      0.81      0.84      3339\n",
      "\n",
      "    accuracy                           0.79      4990\n",
      "   macro avg       0.76      0.77      0.76      4990\n",
      "weighted avg       0.79      0.79      0.79      4990\n",
      "\n"
     ]
    }
   ],
   "source": [
    "model = ExtraTreesClassifier()\n",
    "model.fit(X_train,y_train)\n",
    "y_pred = model.predict(X_test)\n",
    "print(classification_report(y_pred,y_test))"
   ]
  },
  {
   "cell_type": "markdown",
   "id": "150ccc8d",
   "metadata": {},
   "source": [
    "# KNeighborsClassifier"
   ]
  },
  {
   "cell_type": "code",
   "execution_count": 16,
   "id": "cadcc46d",
   "metadata": {},
   "outputs": [
    {
     "name": "stdout",
     "output_type": "stream",
     "text": [
      "              precision    recall  f1-score   support\n",
      "\n",
      "           0       0.57      0.63      0.60      1647\n",
      "           1       0.81      0.76      0.79      3343\n",
      "\n",
      "    accuracy                           0.72      4990\n",
      "   macro avg       0.69      0.70      0.69      4990\n",
      "weighted avg       0.73      0.72      0.72      4990\n",
      "\n"
     ]
    }
   ],
   "source": [
    "model = KNeighborsClassifier()\n",
    "model.fit(X_train,y_train)\n",
    "y_pred = model.predict(X_test)\n",
    "print(classification_report(y_pred,y_test))"
   ]
  },
  {
   "cell_type": "markdown",
   "id": "3d5d9c97",
   "metadata": {},
   "source": [
    "# MLPClassifier"
   ]
  },
  {
   "cell_type": "code",
   "execution_count": 17,
   "id": "7d826e2c",
   "metadata": {},
   "outputs": [
    {
     "name": "stdout",
     "output_type": "stream",
     "text": [
      "              precision    recall  f1-score   support\n",
      "\n",
      "           0       0.57      0.75      0.65      1393\n",
      "           1       0.89      0.78      0.83      3597\n",
      "\n",
      "    accuracy                           0.77      4990\n",
      "   macro avg       0.73      0.77      0.74      4990\n",
      "weighted avg       0.80      0.77      0.78      4990\n",
      "\n"
     ]
    }
   ],
   "source": [
    "model = MLPClassifier()\n",
    "model.fit(X_train,y_train)\n",
    "y_pred = model.predict(X_test)\n",
    "print(classification_report(y_pred,y_test))"
   ]
  },
  {
   "cell_type": "markdown",
   "id": "4c9746af",
   "metadata": {},
   "source": [
    "# AdaBoostClassifier"
   ]
  },
  {
   "cell_type": "code",
   "execution_count": 18,
   "id": "9fbd9f3c",
   "metadata": {},
   "outputs": [
    {
     "name": "stdout",
     "output_type": "stream",
     "text": [
      "              precision    recall  f1-score   support\n",
      "\n",
      "           0       0.68      0.79      0.73      1592\n",
      "           1       0.89      0.83      0.86      3398\n",
      "\n",
      "    accuracy                           0.81      4990\n",
      "   macro avg       0.79      0.81      0.79      4990\n",
      "weighted avg       0.82      0.81      0.82      4990\n",
      "\n"
     ]
    }
   ],
   "source": [
    "model = AdaBoostClassifier()\n",
    "model.fit(X_train,y_train)\n",
    "y_pred = model.predict(X_test)\n",
    "print(classification_report(y_pred,y_test))"
   ]
  },
  {
   "cell_type": "markdown",
   "id": "b85bc62f",
   "metadata": {},
   "source": [
    "# GradientBoostingClassifier"
   ]
  },
  {
   "cell_type": "code",
   "execution_count": 19,
   "id": "bc46b5a3",
   "metadata": {},
   "outputs": [
    {
     "name": "stdout",
     "output_type": "stream",
     "text": [
      "              precision    recall  f1-score   support\n",
      "\n",
      "           0       0.72      0.79      0.76      1673\n",
      "           1       0.89      0.85      0.87      3317\n",
      "\n",
      "    accuracy                           0.83      4990\n",
      "   macro avg       0.81      0.82      0.81      4990\n",
      "weighted avg       0.84      0.83      0.83      4990\n",
      "\n"
     ]
    }
   ],
   "source": [
    "model = GradientBoostingClassifier()\n",
    "model.fit(X_train,y_train)\n",
    "y_pred = model.predict(X_test)\n",
    "print(classification_report(y_pred,y_test))"
   ]
  },
  {
   "cell_type": "markdown",
   "id": "bad46336",
   "metadata": {},
   "source": [
    "# BaggingClassifier"
   ]
  },
  {
   "cell_type": "code",
   "execution_count": 20,
   "id": "77f64822",
   "metadata": {},
   "outputs": [
    {
     "name": "stdout",
     "output_type": "stream",
     "text": [
      "              precision    recall  f1-score   support\n",
      "\n",
      "           0       0.76      0.70      0.73      1999\n",
      "           1       0.81      0.85      0.83      2991\n",
      "\n",
      "    accuracy                           0.79      4990\n",
      "   macro avg       0.79      0.78      0.78      4990\n",
      "weighted avg       0.79      0.79      0.79      4990\n",
      "\n"
     ]
    }
   ],
   "source": [
    "model = BaggingClassifier()\n",
    "model.fit(X_train,y_train)\n",
    "y_pred = model.predict(X_test)\n",
    "print(classification_report(y_pred,y_test))"
   ]
  },
  {
   "cell_type": "markdown",
   "id": "736883a5",
   "metadata": {},
   "source": [
    "# XGBClassifier"
   ]
  },
  {
   "cell_type": "code",
   "execution_count": 21,
   "id": "757b4f07",
   "metadata": {},
   "outputs": [
    {
     "name": "stdout",
     "output_type": "stream",
     "text": [
      "              precision    recall  f1-score   support\n",
      "\n",
      "           0       0.76      0.79      0.77      1755\n",
      "           1       0.88      0.86      0.87      3235\n",
      "\n",
      "    accuracy                           0.84      4990\n",
      "   macro avg       0.82      0.83      0.82      4990\n",
      "weighted avg       0.84      0.84      0.84      4990\n",
      "\n"
     ]
    }
   ],
   "source": [
    "model = XGBClassifier()\n",
    "model.fit(X_train,y_train)\n",
    "y_pred = model.predict(X_test)\n",
    "print(classification_report(y_pred,y_test))"
   ]
  },
  {
   "cell_type": "markdown",
   "id": "e3084052",
   "metadata": {},
   "source": [
    "## Finalizing the Model"
   ]
  },
  {
   "cell_type": "code",
   "execution_count": 22,
   "id": "fc247432",
   "metadata": {},
   "outputs": [
    {
     "name": "stdout",
     "output_type": "stream",
     "text": [
      "              precision    recall  f1-score   support\n",
      "\n",
      "           0       0.79      0.72      0.76      1837\n",
      "           1       0.85      0.89      0.87      3153\n",
      "\n",
      "    accuracy                           0.83      4990\n",
      "   macro avg       0.82      0.81      0.81      4990\n",
      "weighted avg       0.83      0.83      0.83      4990\n",
      "\n"
     ]
    }
   ],
   "source": [
    "model =GradientBoostingClassifier()\n",
    "model.fit(X_train,y_train)\n",
    "y_pred = model.predict(X_test)\n",
    "print(classification_report(y_test, y_pred))\n",
    "y_test_pred = model.predict(test_data)\n",
    "\n",
    "# Prepare submission\n",
    "submission = pd.DataFrame({'predictions': y_test_pred})\n",
    "submission = submission.astype(int)\n",
    "# Save the submission to a CSV file\n",
    "submission.to_csv('submission-GradientBoostingClassifier.csv', index=False)"
   ]
  },
  {
   "cell_type": "code",
   "execution_count": 23,
   "id": "175cd756",
   "metadata": {},
   "outputs": [
    {
     "data": {
      "text/plain": [
       "predictions\n",
       "1              17134\n",
       "0               8786\n",
       "dtype: int64"
      ]
     },
     "execution_count": 23,
     "metadata": {},
     "output_type": "execute_result"
    }
   ],
   "source": [
    "submission.value_counts()"
   ]
  },
  {
   "cell_type": "code",
   "execution_count": 24,
   "id": "84ca1dc7",
   "metadata": {},
   "outputs": [],
   "source": [
    "s = pd.read_csv(\"submission-GradientBoostingClassifier.csv\")"
   ]
  },
  {
   "cell_type": "code",
   "execution_count": 25,
   "id": "e36fd3a8",
   "metadata": {},
   "outputs": [
    {
     "data": {
      "text/plain": [
       "predictions\n",
       "1              17134\n",
       "0               8786\n",
       "dtype: int64"
      ]
     },
     "execution_count": 25,
     "metadata": {},
     "output_type": "execute_result"
    }
   ],
   "source": [
    "s.value_counts()"
   ]
  },
  {
   "cell_type": "code",
   "execution_count": null,
   "id": "37d7b433-7f97-4146-83da-5be2ea7449d9",
   "metadata": {},
   "outputs": [],
   "source": []
  }
 ],
 "metadata": {
  "kernelspec": {
   "display_name": "Python 3 (ipykernel)",
   "language": "python",
   "name": "python3"
  },
  "language_info": {
   "codemirror_mode": {
    "name": "ipython",
    "version": 3
   },
   "file_extension": ".py",
   "mimetype": "text/x-python",
   "name": "python",
   "nbconvert_exporter": "python",
   "pygments_lexer": "ipython3",
   "version": "3.10.9"
  }
 },
 "nbformat": 4,
 "nbformat_minor": 5
}
