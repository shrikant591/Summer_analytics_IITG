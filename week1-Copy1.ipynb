{
 "cells": [
  {
   "cell_type": "markdown",
   "metadata": {
    "id": "7t7O3hPJQQ1h"
   },
   "source": [
    "**Welcome to your first assignment of Summer Analytics 2023! We hope you are excited to implement and test everything you have learnt up until now.<a href = \"https://drive.google.com/file/d/1U73P58VAc4EXM98Or9feKnVx9I9FOP_L/view?usp=sharing\"> The dataset</a> which you'll use includes information about Movies.**"
   ]
  },
  {
   "cell_type": "markdown",
   "metadata": {
    "id": "8yDZv8F_QiqH"
   },
   "source": [
    " We've got an interesting set of questions for you to get a basic understanding of pandas and data visualization libraries. GOOD LUCK!\n",
    " \n",
    "Let's get started with importing numpy, pandas, seaborn and matplotlib! "
   ]
  },
  {
   "cell_type": "markdown",
   "metadata": {
    "id": "p-nMuCNQQxx_"
   },
   "source": [
    "Note - matplotlib should be imported with the command :\n",
    "\n",
    "**import matplotlib.pyplot as plt**"
   ]
  },
  {
   "cell_type": "markdown",
   "metadata": {
    "id": "nz8BTfnCRC8v"
   },
   "source": [
    "Start by importing all important libraries"
   ]
  },
  {
   "cell_type": "code",
   "execution_count": 1,
   "metadata": {
    "id": "rKkyeMJiO0up"
   },
   "outputs": [],
   "source": [
    "import pandas as pd\n",
    "import numpy as np\n",
    "import seaborn as sns\n",
    "import matplotlib.pyplot as plt"
   ]
  },
  {
   "cell_type": "markdown",
   "metadata": {
    "id": "2N8LabERRONN"
   },
   "source": [
    "Read the csv file and assign it to a variable ."
   ]
  },
  {
   "cell_type": "code",
   "execution_count": 2,
   "metadata": {
    "id": "vnjh3IZmRO72"
   },
   "outputs": [],
   "source": [
    "imdb = pd.read_csv('imdb_top_1000.csv')"
   ]
  },
  {
   "cell_type": "markdown",
   "metadata": {
    "id": "EifdwomBRPxy"
   },
   "source": [
    "Display shape of dataframe"
   ]
  },
  {
   "cell_type": "code",
   "execution_count": 3,
   "metadata": {
    "id": "lM8S9INfRSt3"
   },
   "outputs": [
    {
     "name": "stdout",
     "output_type": "stream",
     "text": [
      "Shape of dataframe: (1000, 16)\n"
     ]
    }
   ],
   "source": [
    "print(\"Shape of dataframe:\", imdb.shape)"
   ]
  },
  {
   "cell_type": "markdown",
   "metadata": {
    "id": "Q9xTIt54RVTY"
   },
   "source": [
    "Print all columns of dataframe"
   ]
  },
  {
   "cell_type": "code",
   "execution_count": 4,
   "metadata": {
    "id": "kn3VPvn6RV4_"
   },
   "outputs": [
    {
     "name": "stdout",
     "output_type": "stream",
     "text": [
      "Columns of dataframe: Index(['Poster_Link', 'Series_Title', 'Released_Year', 'Certificate',\n",
      "       'Runtime', 'Genre', 'IMDB_Rating', 'Overview', 'Meta_score', 'Director',\n",
      "       'Star1', 'Star2', 'Star3', 'Star4', 'No_of_Votes', 'Gross'],\n",
      "      dtype='object')\n"
     ]
    }
   ],
   "source": [
    "print(\"Columns of dataframe:\", imdb.columns)"
   ]
  },
  {
   "cell_type": "markdown",
   "metadata": {
    "id": "3jtm084KRleN"
   },
   "source": [
    "Remove the column 'Poster_Link' and update the dataframe."
   ]
  },
  {
   "cell_type": "code",
   "execution_count": 5,
   "metadata": {
    "id": "zYIz3q0ARnuU"
   },
   "outputs": [],
   "source": [
    "imdb = imdb.drop('Poster_Link', axis=1)"
   ]
  },
  {
   "cell_type": "markdown",
   "metadata": {
    "id": "ss6QYp4YRrfY"
   },
   "source": [
    "Set the 'Series_Title' column as the index of dataframe"
   ]
  },
  {
   "cell_type": "code",
   "execution_count": 6,
   "metadata": {
    "id": "iXNaEmTkR3tB"
   },
   "outputs": [],
   "source": [
    "imdb = imdb.set_index('Series_Title')"
   ]
  },
  {
   "cell_type": "markdown",
   "metadata": {
    "id": "f6cj49w0R4PS"
   },
   "source": [
    "Print a list of all the unique Genre"
   ]
  },
  {
   "cell_type": "code",
   "execution_count": 7,
   "metadata": {
    "id": "CO4kbBsySVjr"
   },
   "outputs": [
    {
     "name": "stdout",
     "output_type": "stream",
     "text": [
      "Unique genres: ['Drama' 'Crime, Drama' 'Action, Crime, Drama' 'Action, Adventure, Drama'\n",
      " 'Biography, Drama, History' 'Action, Adventure, Sci-Fi' 'Drama, Romance'\n",
      " 'Western' 'Action, Sci-Fi' 'Biography, Crime, Drama'\n",
      " 'Action, Adventure, Fantasy' 'Comedy, Drama, Thriller'\n",
      " 'Adventure, Drama, Sci-Fi' 'Animation, Adventure, Family' 'Drama, War'\n",
      " 'Crime, Drama, Fantasy' 'Comedy, Drama, Romance' 'Crime, Drama, Mystery'\n",
      " 'Crime, Drama, Thriller' 'Action, Drama, Mystery'\n",
      " 'Drama, Family, Fantasy' 'Drama, Music' 'Biography, Comedy, Drama'\n",
      " 'Drama, Mystery, Sci-Fi' 'Biography, Drama, Music'\n",
      " 'Crime, Mystery, Thriller' 'Animation, Adventure, Drama'\n",
      " 'Animation, Drama, War' 'Adventure, Comedy, Sci-Fi'\n",
      " 'Horror, Mystery, Thriller' 'Drama, Romance, War' 'Comedy, Drama, Family'\n",
      " 'Animation, Drama, Fantasy' 'Action, Biography, Drama'\n",
      " 'Animation, Action, Adventure' 'Drama, Western' 'Action, Adventure'\n",
      " 'Comedy, Drama' 'Drama, Family' 'Drama, Mystery, Thriller'\n",
      " 'Mystery, Thriller' 'Drama, Horror' 'Drama, Mystery, War'\n",
      " 'Horror, Sci-Fi' 'Drama, Musical' 'Comedy' 'Drama, Film-Noir'\n",
      " 'Comedy, Drama, War' 'Drama, Thriller, War' 'Drama, Fantasy, Horror'\n",
      " 'Crime, Drama, Music' 'Adventure, Drama, War' 'Drama, Romance, Sci-Fi'\n",
      " 'Comedy, Romance' 'Comedy, Crime' 'Drama, Family, Sport'\n",
      " 'Animation, Adventure, Comedy' 'Adventure, Drama, Thriller'\n",
      " 'Comedy, Crime, Drama' 'Crime, Drama, Sci-Fi' 'Adventure, Sci-Fi'\n",
      " 'Adventure, Biography, Drama' 'Adventure, Mystery, Thriller'\n",
      " 'Mystery, Romance, Thriller' 'Comedy, Musical, Romance'\n",
      " 'Crime, Drama, Film-Noir' 'Drama, Mystery' 'Drama, Sci-Fi'\n",
      " 'Action, Drama, War' 'Action, Drama' 'Adventure, Comedy, Drama'\n",
      " 'Biography, Drama, Sport' 'Action, Comedy, Crime'\n",
      " 'Action, Biography, Crime' 'Drama, Mystery, Romance'\n",
      " 'Action, Drama, Sport' 'Drama, Fantasy, War' 'Action, Drama, Sci-Fi'\n",
      " 'Biography, Drama' 'Action, Comedy, Romance' 'Animation, Family, Fantasy'\n",
      " 'Action, Thriller' 'Action, Adventure, Comedy'\n",
      " 'Adventure, Comedy, Fantasy' 'Adventure, Drama, History'\n",
      " 'Action, Drama, Thriller' 'Comedy, Music, Romance'\n",
      " 'Drama, Fantasy, History' 'Crime, Thriller' 'Adventure, Drama, Western'\n",
      " 'Comedy, War' 'Drama, Thriller' 'Animation, Drama, Family'\n",
      " 'Drama, Romance, Thriller' 'Comedy, Drama, Musical'\n",
      " 'Comedy, Drama, Fantasy' 'Adventure, Comedy, Crime'\n",
      " 'Adventure, Drama, Fantasy' 'Biography, Drama, Family'\n",
      " 'Animation, Comedy, Drama' 'Drama, Sport' 'Animation, Action, Drama'\n",
      " 'Adventure, Drama, Musical' 'Drama, Music, Romance'\n",
      " 'Comedy, Crime, Romance' 'Comedy, Crime, Sport' 'Drama, History, Romance'\n",
      " 'Adventure, Drama' 'Animation, Adventure, Fantasy'\n",
      " 'Horror, Mystery, Sci-Fi' 'Drama, Fantasy, Music'\n",
      " 'Action, Sci-Fi, Thriller' 'Drama, Fantasy' 'Drama, Horror, Thriller'\n",
      " 'Drama, History' 'Film-Noir, Mystery, Thriller'\n",
      " 'Fantasy, Horror, Mystery' 'Action, Crime, Thriller'\n",
      " 'Comedy, Drama, Music' 'Biography, Drama, Thriller'\n",
      " 'Animation, Biography, Drama' 'Action, Mystery, Thriller'\n",
      " 'Crime, Drama, Romance' 'Action, Adventure, Thriller'\n",
      " 'Crime, Drama, Musical' 'Animation, Crime, Mystery'\n",
      " 'Action, Crime, Comedy' 'Mystery, Sci-Fi, Thriller'\n",
      " 'Animation, Action, Crime' 'Comedy, Fantasy, Romance'\n",
      " 'Drama, History, Thriller' 'Animation, Action, Sci-Fi'\n",
      " 'Adventure, Family, Fantasy' 'Drama, Fantasy, Romance'\n",
      " 'Drama, History, War' 'Adventure, Thriller' 'Horror'\n",
      " 'Drama, Family, Musical' 'Action, Drama, Western' 'Crime, Drama, Horror'\n",
      " 'Drama, Film-Noir, Mystery' 'Comedy, Crime, Thriller'\n",
      " 'Film-Noir, Mystery' 'Comedy, Crime, Mystery' 'Drama, Fantasy, Mystery'\n",
      " 'Comedy, Horror' 'Action, Adventure, History' 'Drama, Music, Mystery'\n",
      " 'Comedy, Music' 'Comedy, Family' 'Drama, Music, Musical'\n",
      " 'Action, Adventure, Horror' 'Action, Adventure, Biography'\n",
      " 'Biography, Drama, War' 'Action, Adventure, Western' 'Horror, Thriller'\n",
      " 'Comedy, Mystery, Romance' 'Drama, Thriller, Western'\n",
      " 'Crime, Film-Noir, Thriller' 'Drama, Film-Noir, Romance'\n",
      " 'Crime, Film-Noir, Mystery' 'Action, Adventure, Romance'\n",
      " 'Comedy, Music, Musical' 'Adventure, Horror, Sci-Fi' 'Fantasy, Horror'\n",
      " 'Action, Drama, History' 'Adventure, Comedy, Family'\n",
      " 'Animation, Biography, Crime' 'Adventure, Biography, Crime'\n",
      " 'Adventure, Fantasy' 'Drama, History, Mystery' 'Action, Comedy, Mystery'\n",
      " 'Adventure, Drama, Romance' 'Drama, Sci-Fi, Thriller'\n",
      " 'Crime, Drama, History' 'Action, Comedy, Fantasy' 'Family, Sci-Fi'\n",
      " 'Adventure, History, War' 'Animation, Sci-Fi' 'Family, Fantasy, Musical'\n",
      " 'Thriller' 'Comedy, Family, Fantasy' 'Adventure, Comedy, Film-Noir'\n",
      " 'Film-Noir, Thriller' 'Comedy, Family, Romance' 'Drama, Horror, Sci-Fi'\n",
      " 'Comedy, Musical, War' 'Biography, Drama, Romance'\n",
      " 'Drama, History, Music' 'Animation, Action, Fantasy'\n",
      " 'Animation, Comedy, Fantasy' 'Comedy, Western' 'Action, Adventure, War'\n",
      " 'Drama, Horror, Mystery' 'Animation, Comedy, Crime'\n",
      " 'Action, Adventure, Crime' 'Action, Adventure, Mystery'\n",
      " 'Action, Adventure, Family' 'Action, Crime, Mystery'\n",
      " 'Animation, Drama, Romance' 'Drama, War, Western'\n",
      " 'Adventure, Comedy, War']\n"
     ]
    }
   ],
   "source": [
    "unique_genres = imdb['Genre'].unique()\n",
    "print(\"Unique genres:\", unique_genres)"
   ]
  },
  {
   "cell_type": "markdown",
   "metadata": {
    "id": "Dfj_ZoVBS97W"
   },
   "source": [
    "1. What is the Number of Directors in the given dataset ? "
   ]
  },
  {
   "cell_type": "code",
   "execution_count": 8,
   "metadata": {
    "id": "92f8NLciTIU_"
   },
   "outputs": [
    {
     "name": "stdout",
     "output_type": "stream",
     "text": [
      "Number of directors: 548\n"
     ]
    }
   ],
   "source": [
    "num_directors = len(imdb['Director'].unique())\n",
    "print(\"Number of directors:\", num_directors)"
   ]
  },
  {
   "cell_type": "markdown",
   "metadata": {
    "id": "5UnvBViyTOc9"
   },
   "source": [
    "2. What is the mean, median and standard deviation of IMDB rating in the dataset ?"
   ]
  },
  {
   "cell_type": "code",
   "execution_count": 9,
   "metadata": {
    "id": "sOL7O83LTg30"
   },
   "outputs": [
    {
     "name": "stdout",
     "output_type": "stream",
     "text": [
      "Mean IMDB rating: 7.949300000000012\n",
      "Median IMDB rating: 7.9\n",
      "Standard deviation of IMDB rating: 0.27549120749200917\n"
     ]
    }
   ],
   "source": [
    "imdb_mean = imdb['IMDB_Rating'].mean()\n",
    "imdb_median = imdb['IMDB_Rating'].median()\n",
    "imdb_std = imdb['IMDB_Rating'].std()\n",
    "print(\"Mean IMDB rating:\", imdb_mean)\n",
    "print(\"Median IMDB rating:\", imdb_median)\n",
    "print(\"Standard deviation of IMDB rating:\", imdb_std)"
   ]
  },
  {
   "cell_type": "markdown",
   "metadata": {
    "id": "d_k1zoajTxyx"
   },
   "source": [
    "3. Which director has directed the most number of movies?"
   ]
  },
  {
   "cell_type": "code",
   "execution_count": 10,
   "metadata": {
    "id": "-gvnNqSsT88L"
   },
   "outputs": [
    {
     "name": "stdout",
     "output_type": "stream",
     "text": [
      "Director with the most number of movies: Alfred Hitchcock\n"
     ]
    }
   ],
   "source": [
    "director_counts = imdb['Director'].value_counts()\n",
    "most_movies_director = director_counts.idxmax()\n",
    "print(\"Director with the most number of movies:\", most_movies_director)\n"
   ]
  },
  {
   "cell_type": "markdown",
   "metadata": {
    "id": "zGHeeFZnT-yx"
   },
   "source": [
    "4. Name the Movie which has the highest Runtime ?"
   ]
  },
  {
   "cell_type": "code",
   "execution_count": 11,
   "metadata": {
    "id": "-1BAOzXoUKL1"
   },
   "outputs": [
    {
     "name": "stdout",
     "output_type": "stream",
     "text": [
      "Movie with the highest runtime: Gangs of Wasseypur\n"
     ]
    }
   ],
   "source": [
    "imdb['Runtime'] = imdb['Runtime'].str[:-3]\n",
    "imdb['Runtime'] = pd.to_numeric(imdb['Runtime'])\n",
    "movie_highest_runtime = imdb['Runtime'].idxmax()\n",
    "print(\"Movie with the highest runtime:\", movie_highest_runtime)"
   ]
  },
  {
   "cell_type": "markdown",
   "metadata": {
    "id": "ast-zD1gULUS"
   },
   "source": [
    "5. How many movies are released after year 2000 and have IMDB rating > 8.5 ?"
   ]
  },
  {
   "cell_type": "code",
   "execution_count": 12,
   "metadata": {},
   "outputs": [
    {
     "name": "stdout",
     "output_type": "stream",
     "text": [
      "Number of movies released after 2000 with IMDB rating > 8.5: 11\n"
     ]
    }
   ],
   "source": [
    "imdb['Released_Year'] = pd.to_numeric(imdb['Released_Year'], errors='coerce')\n",
    "imdb['IMDB_Rating'] = imdb['IMDB_Rating'].astype(float)\n",
    "filtered_imdb = imdb[(imdb['Released_Year'] > 2000) & (imdb['IMDB_Rating'] > 8.5)]\n",
    "num_movies = len(filtered_imdb)\n",
    "print(\"Number of movies released after 2000 with IMDB rating > 8.5:\", num_movies)"
   ]
  },
  {
   "cell_type": "markdown",
   "metadata": {
    "id": "jYq9gv3aUl1u"
   },
   "source": [
    "Using seaborn make different types of plots, observe the trend and answer the questions.\n",
    "6. Make a countplot of Movies directed by all directors."
   ]
  },
  {
   "cell_type": "code",
   "execution_count": 13,
   "metadata": {
    "id": "WOYH5X29ViUR"
   },
   "outputs": [
    {
     "data": {
      "image/png": "[encoded data removed]",
      "text/plain": [
       "<Figure size 432x288 with 1 Axes>"
      ]
     },
     "metadata": {
      "needs_background": "light"
     },
     "output_type": "display_data"
    }
   ],
   "source": [
    "sns.countplot(data=imdb, x='Director')\n",
    "plt.xlabel('Director')\n",
    "plt.ylabel('Count')\n",
    "plt.title('Count of Movies Directed by Directors')\n",
    "plt.xticks(rotation=90)\n",
    "plt.show()"
   ]
  },
  {
   "cell_type": "markdown",
   "metadata": {
    "id": "caUYiLeHVjIf"
   },
   "source": [
    "7. Make a plot to analyze distribution of IMDB rating?"
   ]
  },
  {
   "cell_type": "code",
   "execution_count": 14,
   "metadata": {
    "id": "c12iHvlLV9PR"
   },
   "outputs": [
    {
     "data": {
      "image/png": "[encoded data removed]",
      "text/plain": [
       "<Figure size 432x288 with 1 Axes>"
      ]
     },
     "metadata": {
      "needs_background": "light"
     },
     "output_type": "display_data"
    }
   ],
   "source": [
    "sns.histplot(imdb['IMDB_Rating'])\n",
    "plt.xlabel('IMDB Rating')\n",
    "plt.ylabel('Count')\n",
    "plt.title('Distribution of IMDB Rating')\n",
    "plt.show()"
   ]
  },
  {
   "cell_type": "markdown",
   "metadata": {
    "id": "dXCoPuYlWISU"
   },
   "source": [
    "8. What type of Genre has the highest IMDB rating?"
   ]
  },
  {
   "cell_type": "code",
   "execution_count": 15,
   "metadata": {
    "id": "0r9cKE7fWjBU"
   },
   "outputs": [
    {
     "name": "stdout",
     "output_type": "stream",
     "text": [
      "Genre with the highest IMDB rating: Animation, Drama, War\n"
     ]
    }
   ],
   "source": [
    "genre_mean_ratings = imdb.groupby('Genre')['IMDB_Rating'].mean()\n",
    "highest_imdb_genre = genre_mean_ratings.idxmax()\n",
    "print(\"Genre with the highest IMDB rating:\", highest_imdb_genre)"
   ]
  },
  {
   "cell_type": "markdown",
   "metadata": {
    "id": "Ff2urhAhWrHO"
   },
   "source": [
    "9. Name the top 5 movies that have earned highest Meta score. "
   ]
  },
  {
   "cell_type": "code",
   "execution_count": 16,
   "metadata": {
    "id": "lta342_iWxLd",
    "scrolled": true
   },
   "outputs": [
    {
     "name": "stdout",
     "output_type": "stream",
     "text": [
      "Top 5 movies with the highest Meta score:\n",
      "The Godfather\n",
      "Casablanca\n",
      "Rear Window\n",
      "Lawrence of Arabia\n",
      "Vertigo\n"
     ]
    }
   ],
   "source": [
    "top_5_movies_meta = imdb.nlargest(5, 'Meta_score')\n",
    "print(\"Top 5 movies with the highest Meta score:\")\n",
    "for index in top_5_movies_meta.index:\n",
    "    print(index)"
   ]
  },
  {
   "cell_type": "markdown",
   "metadata": {
    "id": "FPmZIOiwW5Jo"
   },
   "source": [
    "10. Of which Genre movie has the highest Runtime?"
   ]
  },
  {
   "cell_type": "code",
   "execution_count": 17,
   "metadata": {
    "id": "R5a1FemoXJuo"
   },
   "outputs": [
    {
     "name": "stdout",
     "output_type": "stream",
     "text": [
      "Genre with the highest runtime: Action, Comedy, Crime\n"
     ]
    }
   ],
   "source": [
    "genre_highest_runtime = imdb.groupby('Genre')['Runtime'].max()\n",
    "genre_highest_runtime = genre_highest_runtime.idxmax()\n",
    "print(\"Genre with the highest runtime:\", genre_highest_runtime)"
   ]
  }
 ],
 "metadata": {
  "colab": {
   "provenance": []
  },
  "kernelspec": {
   "display_name": "Python 3",
   "language": "python",
   "name": "python3"
  },
  "language_info": {
   "codemirror_mode": {
    "name": "ipython",
    "version": 3
   },
   "file_extension": ".py",
   "mimetype": "text/x-python",
   "name": "python",
   "nbconvert_exporter": "python",
   "pygments_lexer": "ipython3",
   "version": "3.8.8"
  }
 },
 "nbformat": 4,
 "nbformat_minor": 1
}
